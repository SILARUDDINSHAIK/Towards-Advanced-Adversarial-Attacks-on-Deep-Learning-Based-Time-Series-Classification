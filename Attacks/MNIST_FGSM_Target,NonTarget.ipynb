{
 "cells": [
  {
   "cell_type": "markdown",
   "metadata": {
    "id": "RHwgLwN4nXPi"
   },
   "source": [
    "# Fast Gradient Sign Method (FGSM) using Cleverhans\n",
    "\n",
    "## Implementation of the FGSM attack on a model using Cleverhans and Tensorflow 2.0\n"
   ]
  },
  {
   "cell_type": "markdown",
   "metadata": {
    "id": "Vs9wD38he0cM"
   },
   "source": [
    "## Importing Required dependent libraries\n",
    " \n"
   ]
  },
  {
   "cell_type": "code",
   "execution_count": 2,
   "metadata": {
    "colab": {
     "base_uri": "https://localhost:8080/"
    },
    "id": "eBsLelavnv0u",
    "outputId": "4fe96638-44cc-4c7c-976b-6bfd2ef30c8b"
   },
   "outputs": [
    {
     "name": "stdout",
     "output_type": "stream",
     "text": [
      "\u001b[K     |████████████████████████████████| 87.9MB 60kB/s \n",
      "\u001b[K     |████████████████████████████████| 3.1MB 40.6MB/s \n",
      "\u001b[K     |████████████████████████████████| 501kB 40.7MB/s \n",
      "\u001b[K     |████████████████████████████████| 51kB 5.7MB/s \n",
      "\u001b[?25hCollecting cleverhans\n",
      "  Cloning https://github.com/tensorflow/cleverhans.git to /tmp/pip-install-8ruyqnkd/cleverhans\n",
      "  Running command git clone -q https://github.com/tensorflow/cleverhans.git /tmp/pip-install-8ruyqnkd/cleverhans\n",
      "Collecting nose\n",
      "\u001b[?25l  Downloading https://files.pythonhosted.org/packages/15/d8/dd071918c040f50fa1cf80da16423af51ff8ce4a0f2399b7bf8de45ac3d9/nose-1.3.7-py3-none-any.whl (154kB)\n",
      "\u001b[K     |████████████████████████████████| 163kB 2.8MB/s \n",
      "\u001b[?25hCollecting pycodestyle\n",
      "\u001b[?25l  Downloading https://files.pythonhosted.org/packages/10/5b/88879fb861ab79aef45c7e199cae3ef7af487b5603dcb363517a50602dd7/pycodestyle-2.6.0-py2.py3-none-any.whl (41kB)\n",
      "\u001b[K     |████████████████████████████████| 51kB 5.9MB/s \n",
      "\u001b[?25hRequirement already satisfied: scipy in /usr/local/lib/python3.6/dist-packages (from cleverhans) (1.4.1)\n",
      "Requirement already satisfied: matplotlib in /usr/local/lib/python3.6/dist-packages (from cleverhans) (3.2.2)\n",
      "Collecting mnist~=0.2\n",
      "  Downloading https://files.pythonhosted.org/packages/c6/c4/5db3bfe009f8d71f1d532bbadbd0ec203764bba3a469e4703a889db8e5e0/mnist-0.2.2-py2.py3-none-any.whl\n",
      "Requirement already satisfied: numpy in /usr/local/lib/python3.6/dist-packages (from cleverhans) (1.18.5)\n",
      "Requirement already satisfied: tensorflow-probability in /usr/local/lib/python3.6/dist-packages (from cleverhans) (0.11.0)\n",
      "Requirement already satisfied: joblib in /usr/local/lib/python3.6/dist-packages (from cleverhans) (0.17.0)\n",
      "Requirement already satisfied: python-dateutil>=2.1 in /usr/local/lib/python3.6/dist-packages (from matplotlib->cleverhans) (2.8.1)\n",
      "Requirement already satisfied: pyparsing!=2.0.4,!=2.1.2,!=2.1.6,>=2.0.1 in /usr/local/lib/python3.6/dist-packages (from matplotlib->cleverhans) (2.4.7)\n",
      "Requirement already satisfied: kiwisolver>=1.0.1 in /usr/local/lib/python3.6/dist-packages (from matplotlib->cleverhans) (1.2.0)\n",
      "Requirement already satisfied: cycler>=0.10 in /usr/local/lib/python3.6/dist-packages (from matplotlib->cleverhans) (0.10.0)\n",
      "Requirement already satisfied: cloudpickle==1.3 in /usr/local/lib/python3.6/dist-packages (from tensorflow-probability->cleverhans) (1.3.0)\n",
      "Requirement already satisfied: gast>=0.3.2 in /usr/local/lib/python3.6/dist-packages (from tensorflow-probability->cleverhans) (0.3.3)\n",
      "Requirement already satisfied: six>=1.10.0 in /usr/local/lib/python3.6/dist-packages (from tensorflow-probability->cleverhans) (1.15.0)\n",
      "Requirement already satisfied: dm-tree in /usr/local/lib/python3.6/dist-packages (from tensorflow-probability->cleverhans) (0.1.5)\n",
      "Requirement already satisfied: decorator in /usr/local/lib/python3.6/dist-packages (from tensorflow-probability->cleverhans) (4.4.2)\n",
      "Building wheels for collected packages: cleverhans\n",
      "  Building wheel for cleverhans (setup.py) ... \u001b[?25l\u001b[?25hdone\n",
      "  Created wheel for cleverhans: filename=cleverhans-3.0.1-cp36-none-any.whl size=262572 sha256=9ea60cf5240aada60aa8aeff7dcea68d4ca4bc6cab2c2cfe8916e2aca2cebbad\n",
      "  Stored in directory: /tmp/pip-ephem-wheel-cache-6d0trljc/wheels/6e/59/ec/723a6f654aaf62c8c40f0f0850fdf71a4948598697f56c3bfa\n",
      "Successfully built cleverhans\n",
      "Installing collected packages: nose, pycodestyle, mnist, cleverhans\n",
      "Successfully installed cleverhans-3.0.1 mnist-0.2.2 nose-1.3.7 pycodestyle-2.6.0\n"
     ]
    },
    {
     "name": "stderr",
     "output_type": "stream",
     "text": [
      "/usr/local/lib/python3.6/dist-packages/tensorflow/python/framework/dtypes.py:516: FutureWarning: Passing (type, 1) or '1type' as a synonym of type is deprecated; in a future version of numpy, it will be understood as (type, (1,)) / '(1,)type'.\n",
      "  _np_qint8 = np.dtype([(\"qint8\", np.int8, 1)])\n",
      "/usr/local/lib/python3.6/dist-packages/tensorflow/python/framework/dtypes.py:517: FutureWarning: Passing (type, 1) or '1type' as a synonym of type is deprecated; in a future version of numpy, it will be understood as (type, (1,)) / '(1,)type'.\n",
      "  _np_quint8 = np.dtype([(\"quint8\", np.uint8, 1)])\n",
      "/usr/local/lib/python3.6/dist-packages/tensorflow/python/framework/dtypes.py:518: FutureWarning: Passing (type, 1) or '1type' as a synonym of type is deprecated; in a future version of numpy, it will be understood as (type, (1,)) / '(1,)type'.\n",
      "  _np_qint16 = np.dtype([(\"qint16\", np.int16, 1)])\n",
      "/usr/local/lib/python3.6/dist-packages/tensorflow/python/framework/dtypes.py:519: FutureWarning: Passing (type, 1) or '1type' as a synonym of type is deprecated; in a future version of numpy, it will be understood as (type, (1,)) / '(1,)type'.\n",
      "  _np_quint16 = np.dtype([(\"quint16\", np.uint16, 1)])\n",
      "/usr/local/lib/python3.6/dist-packages/tensorflow/python/framework/dtypes.py:520: FutureWarning: Passing (type, 1) or '1type' as a synonym of type is deprecated; in a future version of numpy, it will be understood as (type, (1,)) / '(1,)type'.\n",
      "  _np_qint32 = np.dtype([(\"qint32\", np.int32, 1)])\n",
      "/usr/local/lib/python3.6/dist-packages/tensorflow/python/framework/dtypes.py:525: FutureWarning: Passing (type, 1) or '1type' as a synonym of type is deprecated; in a future version of numpy, it will be understood as (type, (1,)) / '(1,)type'.\n",
      "  np_resource = np.dtype([(\"resource\", np.ubyte, 1)])\n"
     ]
    },
    {
     "name": "stdout",
     "output_type": "stream",
     "text": [
      "\n",
      "Tensorflow Version: 2.0.0-beta1\n",
      "Cleverhans Version: 3.0.1-15447acccf2628751c1e44ee30e141ec\n",
      "GPU Available:  False\n"
     ]
    },
    {
     "name": "stderr",
     "output_type": "stream",
     "text": [
      "/usr/local/lib/python3.6/dist-packages/tensorboard/compat/tensorflow_stub/dtypes.py:541: FutureWarning: Passing (type, 1) or '1type' as a synonym of type is deprecated; in a future version of numpy, it will be understood as (type, (1,)) / '(1,)type'.\n",
      "  _np_qint8 = np.dtype([(\"qint8\", np.int8, 1)])\n",
      "/usr/local/lib/python3.6/dist-packages/tensorboard/compat/tensorflow_stub/dtypes.py:542: FutureWarning: Passing (type, 1) or '1type' as a synonym of type is deprecated; in a future version of numpy, it will be understood as (type, (1,)) / '(1,)type'.\n",
      "  _np_quint8 = np.dtype([(\"quint8\", np.uint8, 1)])\n",
      "/usr/local/lib/python3.6/dist-packages/tensorboard/compat/tensorflow_stub/dtypes.py:543: FutureWarning: Passing (type, 1) or '1type' as a synonym of type is deprecated; in a future version of numpy, it will be understood as (type, (1,)) / '(1,)type'.\n",
      "  _np_qint16 = np.dtype([(\"qint16\", np.int16, 1)])\n",
      "/usr/local/lib/python3.6/dist-packages/tensorboard/compat/tensorflow_stub/dtypes.py:544: FutureWarning: Passing (type, 1) or '1type' as a synonym of type is deprecated; in a future version of numpy, it will be understood as (type, (1,)) / '(1,)type'.\n",
      "  _np_quint16 = np.dtype([(\"quint16\", np.uint16, 1)])\n",
      "/usr/local/lib/python3.6/dist-packages/tensorboard/compat/tensorflow_stub/dtypes.py:545: FutureWarning: Passing (type, 1) or '1type' as a synonym of type is deprecated; in a future version of numpy, it will be understood as (type, (1,)) / '(1,)type'.\n",
      "  _np_qint32 = np.dtype([(\"qint32\", np.int32, 1)])\n",
      "/usr/local/lib/python3.6/dist-packages/tensorboard/compat/tensorflow_stub/dtypes.py:550: FutureWarning: Passing (type, 1) or '1type' as a synonym of type is deprecated; in a future version of numpy, it will be understood as (type, (1,)) / '(1,)type'.\n",
      "  np_resource = np.dtype([(\"resource\", np.ubyte, 1)])\n"
     ]
    }
   ],
   "source": [
    "!pip install -q tensorflow==2.0.0b1\n",
    "# Install bleeding edge version of cleverhans\n",
    "!pip install git+https://github.com/tensorflow/cleverhans.git#egg=cleverhans\n",
    "\n",
    "import cleverhans\n",
    "import tensorflow as tf\n",
    "import numpy as np\n",
    "import matplotlib.pyplot as plt\n",
    "\n",
    "print(\"\\nTensorflow Version: \" + tf.__version__)\n",
    "print(\"Cleverhans Version: \" + cleverhans.__version__)\n",
    "print(\"GPU Available: \", tf.test.is_gpu_available())"
   ]
  },
  {
   "cell_type": "markdown",
   "metadata": {
    "id": "b4kgPQqp-hwR"
   },
   "source": [
    "## Training a simple model on the MNIST dataset\n"
   ]
  },
  {
   "cell_type": "code",
   "execution_count": 3,
   "metadata": {
    "colab": {
     "base_uri": "https://localhost:8080/"
    },
    "id": "uQVP1re__pbf",
    "outputId": "523f453e-3d24-4e97-f034-6e72d3e51bc7"
   },
   "outputs": [
    {
     "name": "stdout",
     "output_type": "stream",
     "text": [
      "Downloading data from https://storage.googleapis.com/tensorflow/tf-keras-datasets/mnist.npz\n",
      "11493376/11490434 [==============================] - 0s 0us/step\n",
      "WARNING:tensorflow:From /usr/local/lib/python3.6/dist-packages/tensorflow/python/ops/math_grad.py:1250: add_dispatch_support.<locals>.wrapper (from tensorflow.python.ops.array_ops) is deprecated and will be removed in a future version.\n",
      "Instructions for updating:\n",
      "Use tf.where in 2.0, which has the same broadcast rule as np.where\n",
      "Train on 48000 samples, validate on 12000 samples\n",
      "Epoch 1/10\n",
      "48000/48000 [==============================] - 3s 69us/sample - loss: 0.4012 - accuracy: 0.8854 - val_loss: 0.2087 - val_accuracy: 0.9409\n",
      "Epoch 2/10\n",
      "48000/48000 [==============================] - 3s 64us/sample - loss: 0.1973 - accuracy: 0.9422 - val_loss: 0.1697 - val_accuracy: 0.9520\n",
      "Epoch 3/10\n",
      "48000/48000 [==============================] - 3s 64us/sample - loss: 0.1518 - accuracy: 0.9549 - val_loss: 0.1509 - val_accuracy: 0.9560\n",
      "Epoch 4/10\n",
      "48000/48000 [==============================] - 3s 66us/sample - loss: 0.1267 - accuracy: 0.9621 - val_loss: 0.1354 - val_accuracy: 0.9613\n",
      "Epoch 5/10\n",
      "48000/48000 [==============================] - 3s 65us/sample - loss: 0.1100 - accuracy: 0.9669 - val_loss: 0.1307 - val_accuracy: 0.9620\n",
      "Epoch 6/10\n",
      "48000/48000 [==============================] - 3s 65us/sample - loss: 0.0976 - accuracy: 0.9701 - val_loss: 0.1251 - val_accuracy: 0.9653\n",
      "Epoch 7/10\n",
      "48000/48000 [==============================] - 3s 63us/sample - loss: 0.0861 - accuracy: 0.9737 - val_loss: 0.1317 - val_accuracy: 0.9645\n",
      "Epoch 8/10\n",
      "48000/48000 [==============================] - 3s 65us/sample - loss: 0.0791 - accuracy: 0.9754 - val_loss: 0.1172 - val_accuracy: 0.9673\n",
      "Epoch 9/10\n",
      "48000/48000 [==============================] - 3s 63us/sample - loss: 0.0723 - accuracy: 0.9776 - val_loss: 0.1200 - val_accuracy: 0.9677\n",
      "Epoch 10/10\n",
      "48000/48000 [==============================] - 3s 64us/sample - loss: 0.0667 - accuracy: 0.9796 - val_loss: 0.1223 - val_accuracy: 0.9666\n",
      "10000/10000 [==============================] - 0s 30us/sample - loss: 0.1266 - accuracy: 0.9650\n",
      "Test accuracy: 0.965\n"
     ]
    }
   ],
   "source": [
    "mnist = tf.keras.datasets.mnist\n",
    "(train_images, train_labels), (test_images, test_labels) = mnist.load_data()\n",
    "\n",
    "train_images = train_images / 255.0\n",
    "test_images = test_images / 255.0\n",
    "\n",
    "num_classes = 10\n",
    "\n",
    "model = tf.keras.Sequential([\n",
    "    tf.keras.layers.Flatten(input_shape=(28, 28)),\n",
    "    tf.keras.layers.Dense(32, activation=tf.nn.relu),\n",
    "    tf.keras.layers.Dense(16, activation=tf.nn.relu),\n",
    "    tf.keras.layers.Dense(10),\n",
    "    tf.keras.layers.Activation(tf.nn.softmax) # We seperate the activation layer to be able to access the logits of the previous layer later\n",
    "])\n",
    "\n",
    "model.compile(optimizer='adam',\n",
    "              loss= 'sparse_categorical_crossentropy',\n",
    "              metrics=['accuracy'])\n",
    "\n",
    "model.fit(train_images, train_labels, epochs=10, validation_split=0.2)\n",
    "test_loss, test_acc = model.evaluate(test_images, test_labels)\n",
    "\n",
    "print('Test accuracy:', test_acc)"
   ]
  },
  {
   "cell_type": "markdown",
   "metadata": {
    "id": "QpC4KgTS_Fj8"
   },
   "source": [
    "## Implementing the FGSM attack using fast_gradient_method()\n"
   ]
  },
  {
   "cell_type": "markdown",
   "metadata": {
    "id": "U68CRVKW5ULk"
   },
   "source": [
    "Cleverhans implements the fgsm attack with the following method:\n",
    "\n",
    "\n",
    "```\n",
    "fast_gradient_method(model_fn, x, eps, norm, clip_min=None, clip_max=None, y=None, targeted=False, sanity_checks=False)\n",
    "\n",
    "```\n"
   ]
  },
  {
   "cell_type": "code",
   "execution_count": 10,
   "metadata": {
    "id": "LgZhvgzbAuU8"
   },
   "outputs": [],
   "source": [
    "# Import the attack\n",
    "from cleverhans.future.tf2.attacks import fast_gradient_method\n",
    "\n",
    "#The attack requires the model to ouput the logits (which are helpful in prediction decisions normally probability score in classification problems)\n",
    "logits_model = tf.keras.Model(model.input,model.layers[-1].output)"
   ]
  },
  {
   "cell_type": "markdown",
   "metadata": {
    "id": "q53TkEuD-gR9"
   },
   "source": [
    "### Choose a random image to attack from the test set\n",
    "\n"
   ]
  },
  {
   "cell_type": "code",
   "execution_count": 11,
   "metadata": {
    "colab": {
     "base_uri": "https://localhost:8080/",
     "height": 281
    },
    "id": "wA7_JKrm1wsm",
    "outputId": "b6d8a4a3-5f48-46c7-e4bd-6d7a6d6176c5"
   },
   "outputs": [
    {
     "data": {
      "image/png": "[encoded data removed]",
      "text/plain": [
       "<Figure size 432x288 with 1 Axes>"
      ]
     },
     "metadata": {
      "needs_background": "light",
      "tags": []
     },
     "output_type": "display_data"
    }
   ],
   "source": [
    "random_index = np.random.randint(test_images.shape[0])\n",
    "\n",
    "original_image = test_images[random_index]\n",
    "original_image = tf.convert_to_tensor(original_image.reshape((1,28,28)))\n",
    "\n",
    "original_label = test_labels[random_index]\n",
    "original_label = np.reshape(original_label, (1,)).astype('int64')\n",
    "\n",
    "#Show the image\n",
    "plt.figure()\n",
    "plt.grid(False)\n",
    "\n",
    "plt.imshow(np.reshape(original_image, (28,28)))\n",
    "plt.title(\"Label: {}\".format(original_label[0]))\n",
    "\n",
    "plt.show()"
   ]
  },
  {
   "cell_type": "markdown",
   "metadata": {
    "id": "rz8QBZJ2-DO5"
   },
   "source": [
    "### Non-targeted FGSM attack \n",
    "\n",
    "### Attacker tries to make the classifier predict wrong output\n"
   ]
  },
  {
   "cell_type": "code",
   "execution_count": 8,
   "metadata": {
    "colab": {
     "base_uri": "https://localhost:8080/",
     "height": 349
    },
    "id": "6LSemuYWrZWz",
    "outputId": "0721c2c4-c085-40c0-8b0b-2e7a1833c9fe"
   },
   "outputs": [
    {
     "name": "stdout",
     "output_type": "stream",
     "text": [
      "WARNING:tensorflow:Entity <function compute_gradient at 0x7fbd6b8f31e0> could not be transformed and will be executed as-is. Please report this to the AutoGraph team. When filing the bug, set the verbosity to 10 (on Linux, `export AUTOGRAPH_VERBOSITY=10`) and attach the full output. Cause: converting <function compute_gradient at 0x7fbd6b8f31e0>: AssertionError: Bad argument number for Name: 3, expecting 4\n",
      "WARNING: Entity <function compute_gradient at 0x7fbd6b8f31e0> could not be transformed and will be executed as-is. Please report this to the AutoGraph team. When filing the bug, set the verbosity to 10 (on Linux, `export AUTOGRAPH_VERBOSITY=10`) and attach the full output. Cause: converting <function compute_gradient at 0x7fbd6b8f31e0>: AssertionError: Bad argument number for Name: 3, expecting 4\n"
     ]
    },
    {
     "data": {
      "image/png": "[encoded data removed]",
      "text/plain": [
       "<Figure size 432x288 with 1 Axes>"
      ]
     },
     "metadata": {
      "needs_background": "light",
      "tags": []
     },
     "output_type": "display_data"
    }
   ],
   "source": [
    "epsilon = 0.1\n",
    "\n",
    "adv_example_untargeted_label = fast_gradient_method(logits_model, original_image, epsilon, np.inf, targeted=False)\n",
    "\n",
    "adv_example_untargeted_label_pred = model.predict(adv_example_untargeted_label)\n",
    "\n",
    "#Show the image\n",
    "plt.figure()\n",
    "plt.grid(False)\n",
    "\n",
    "plt.imshow(np.reshape(adv_example_untargeted_label, (28,28)))\n",
    "plt.title(\"Model Prediction: {}\".format(np.argmax(adv_example_untargeted_label_pred)))\n",
    "plt.xlabel(\"Original Label: {}\".format(original_label[0]))\n",
    "\n",
    "plt.show()"
   ]
  },
  {
   "cell_type": "markdown",
   "metadata": {
    "id": "-l-eIvZZvSC6"
   },
   "source": [
    "### Targeted FGSM Attack\n",
    "### A difficult attack which aims to receive a particular class for attackers input"
   ]
  },
  {
   "cell_type": "code",
   "execution_count": 9,
   "metadata": {
    "colab": {
     "base_uri": "https://localhost:8080/",
     "height": 349
    },
    "id": "O4teWeVYvUGQ",
    "outputId": "71559f9c-4deb-4e2e-92b7-787f06c346c0"
   },
   "outputs": [
    {
     "name": "stdout",
     "output_type": "stream",
     "text": [
      "WARNING:tensorflow:Entity <function compute_gradient at 0x7fbd6b8f31e0> could not be transformed and will be executed as-is. Please report this to the AutoGraph team. When filing the bug, set the verbosity to 10 (on Linux, `export AUTOGRAPH_VERBOSITY=10`) and attach the full output. Cause: converting <function compute_gradient at 0x7fbd6b8f31e0>: AssertionError: Bad argument number for Name: 3, expecting 4\n",
      "WARNING: Entity <function compute_gradient at 0x7fbd6b8f31e0> could not be transformed and will be executed as-is. Please report this to the AutoGraph team. When filing the bug, set the verbosity to 10 (on Linux, `export AUTOGRAPH_VERBOSITY=10`) and attach the full output. Cause: converting <function compute_gradient at 0x7fbd6b8f31e0>: AssertionError: Bad argument number for Name: 3, expecting 4\n"
     ]
    },
    {
     "data": {
      "image/png": "[encoded data removed]",
      "text/plain": [
       "<Figure size 432x288 with 1 Axes>"
      ]
     },
     "metadata": {
      "needs_background": "light",
      "tags": []
     },
     "output_type": "display_data"
    }
   ],
   "source": [
    "epsilon = 0.1\n",
    "# The target value may have to be changed to work, some images are more easily missclassified as different labels\n",
    "target = 2\n",
    "\n",
    "target_label = np.reshape(target, (1,)).astype('int64') # Give target label proper size and dtype to feed through\n",
    "\n",
    "adv_example_targeted_label = fast_gradient_method(logits_model, original_image, epsilon, np.inf, y=target_label, targeted=True)\n",
    "\n",
    "adv_example_targeted_label_pred = model.predict(adv_example_targeted_label)\n",
    "\n",
    "#Show the image\n",
    "plt.figure()\n",
    "plt.grid(False)\n",
    "\n",
    "plt.imshow(np.reshape(adv_example_targeted_label, (28,28)))\n",
    "plt.title(\"Model Prediction: {}\".format(np.argmax(adv_example_targeted_label_pred)))\n",
    "plt.xlabel(\"Original Label: {}\".format(original_label[0]))\n",
    "\n",
    "plt.show()"
   ]
  }
 ],
 "metadata": {
  "colab": {
   "collapsed_sections": [],
   "name": "Cleverhans FGSM attack.ipynb",
   "provenance": []
  },
  "kernelspec": {
   "display_name": "Python 3",
   "language": "python",
   "name": "python3"
  },
  "language_info": {
   "codemirror_mode": {
    "name": "ipython",
    "version": 3
   },
   "file_extension": ".py",
   "mimetype": "text/x-python",
   "name": "python",
   "nbconvert_exporter": "python",
   "pygments_lexer": "ipython3",
   "version": "3.7.4"
  }
 },
 "nbformat": 4,
 "nbformat_minor": 1
}
